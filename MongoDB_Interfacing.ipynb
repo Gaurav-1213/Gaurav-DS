{
 "cells": [
  {
   "cell_type": "code",
   "execution_count": 1,
   "metadata": {
    "scrolled": true
   },
   "outputs": [],
   "source": [
    "#Load libraries\n",
    "import pandas as pd\n",
    "import os\n",
    "import pymongo as pymongo\n",
    "from pymongo import MongoClient\n",
    "import pprint\n",
    "import json"
   ]
  },
  {
   "cell_type": "code",
   "execution_count": 2,
   "metadata": {
    "scrolled": true
   },
   "outputs": [
    {
     "name": "stdout",
     "output_type": "stream",
     "text": [
      "Collecting pymongo\n",
      "  Downloading https://files.pythonhosted.org/packages/f8/dd/922ba69a1bafe2e2cfa46c06483cedab01ea7b76c7c3109ba62f430b0dcc/pymongo-3.10.0-cp37-cp37m-win_amd64.whl (354kB)\n",
      "Installing collected packages: pymongo\n",
      "Successfully installed pymongo-3.10.0\n"
     ]
    }
   ],
   "source": [
    "# Install pymongo library\n",
    "#!pip install pymongo"
   ]
  },
  {
   "cell_type": "code",
   "execution_count": 3,
   "metadata": {},
   "outputs": [],
   "source": [
    "#Set working directory\n",
    "os.chdir('C:\\\\Users\\\\patil\\\\Downloads\\\\DS_works\\\\DataSets')"
   ]
  },
  {
   "cell_type": "code",
   "execution_count": 4,
   "metadata": {},
   "outputs": [
    {
     "data": {
      "text/plain": [
       "'C:\\\\Users\\\\patil\\\\Downloads\\\\DS_works\\\\DataSets'"
      ]
     },
     "execution_count": 4,
     "metadata": {},
     "output_type": "execute_result"
    }
   ],
   "source": [
    "#Check current working directory\n",
    "os.getcwd()"
   ]
  },
  {
   "cell_type": "code",
   "execution_count": 20,
   "metadata": {},
   "outputs": [],
   "source": [
    "# Connect to the MongoDB, change the connection string per your MongoDB environment, \n",
    "# Or u can install in remote PC by providing IP instead of port number\n",
    "Channel = MongoClient(port=27017)"
   ]
  },
  {
   "cell_type": "code",
   "execution_count": 6,
   "metadata": {},
   "outputs": [],
   "source": [
    "# Set the db object to point to the business database\n",
    "Select_db = Channel.ReviewScrapper"
   ]
  },
  {
   "cell_type": "code",
   "execution_count": 7,
   "metadata": {},
   "outputs": [
    {
     "name": "stderr",
     "output_type": "stream",
     "text": [
      "C:\\Users\\patil\\Anaconda3\\lib\\site-packages\\ipykernel_launcher.py:2: DeprecationWarning: collection_names is deprecated. Use list_collection_names instead.\n",
      "  \n"
     ]
    }
   ],
   "source": [
    "# Inspect all the collections (tables) in mongodb and exclude defaut ones\n",
    "Collection_Names = Select_db.collection_names(include_system_collections = False)"
   ]
  },
  {
   "cell_type": "code",
   "execution_count": 23,
   "metadata": {},
   "outputs": [
    {
     "name": "stdout",
     "output_type": "stream",
     "text": [
      "{'City': 'Anacortes',\n",
      " 'Country': 'United States',\n",
      " 'Customer ID': '3',\n",
      " 'Customer Name': 'Bonnie Potter',\n",
      " 'Customer Segment': 'Corporate',\n",
      " 'Discount': '0.01',\n",
      " 'Order Date': '1/7/2015',\n",
      " 'Order ID': '88522',\n",
      " 'Order Priority': 'High',\n",
      " 'Postal Code': '98221',\n",
      " 'Product Base Margin': '0.54',\n",
      " 'Product Category': 'Office Supplies',\n",
      " 'Product Container': 'Wrap Bag',\n",
      " 'Product Name': 'SANFORD Liquid Accent� Tank-Style Highlighters',\n",
      " 'Product Sub-Category': 'Pens & Art Supplies',\n",
      " 'Profit': '4.56',\n",
      " 'Quantity ordered new': '4',\n",
      " 'Region': 'West',\n",
      " 'Row ID': '20847',\n",
      " 'Sales': '13.01',\n",
      " 'Ship Date': '1/8/2015',\n",
      " 'Ship Mode': 'Express Air',\n",
      " 'Shipping Cost': '0.93',\n",
      " 'State or Province': 'Washington',\n",
      " 'Unit Price': '2.84',\n",
      " '_id': ObjectId('5e09be4e5059672c34b9d5e7')}\n"
     ]
    }
   ],
   "source": [
    "# Extract first document.  #(1st obs. of table (in terms of SQL db))\n",
    "pprint.pprint(Select_collection.find_one())"
   ]
  },
  {
   "cell_type": "code",
   "execution_count": 24,
   "metadata": {},
   "outputs": [],
   "source": [
    "# Set collection name\n",
    "Select_collection = Select_db.Static"
   ]
  },
  {
   "cell_type": "code",
   "execution_count": 25,
   "metadata": {},
   "outputs": [
    {
     "data": {
      "text/plain": [
       "<pymongo.cursor.Cursor at 0x2bbea9330c8>"
      ]
     },
     "execution_count": 25,
     "metadata": {},
     "output_type": "execute_result"
    }
   ],
   "source": [
    "# now try to Extract whole data from mongodb\n",
    "# Create json file\n",
    "cursor = Select_collection.find()\n",
    "cursor "
   ]
  },
  {
   "cell_type": "code",
   "execution_count": 26,
   "metadata": {},
   "outputs": [
    {
     "data": {
      "text/html": [
       "<div>\n",
       "<style scoped>\n",
       "    .dataframe tbody tr th:only-of-type {\n",
       "        vertical-align: middle;\n",
       "    }\n",
       "\n",
       "    .dataframe tbody tr th {\n",
       "        vertical-align: top;\n",
       "    }\n",
       "\n",
       "    .dataframe thead th {\n",
       "        text-align: right;\n",
       "    }\n",
       "</style>\n",
       "<table border=\"1\" class=\"dataframe\">\n",
       "  <thead>\n",
       "    <tr style=\"text-align: right;\">\n",
       "      <th></th>\n",
       "      <th>_id</th>\n",
       "      <th>Row ID</th>\n",
       "      <th>Order Priority</th>\n",
       "      <th>Discount</th>\n",
       "      <th>Unit Price</th>\n",
       "      <th>Shipping Cost</th>\n",
       "      <th>Customer ID</th>\n",
       "      <th>Customer Name</th>\n",
       "      <th>Ship Mode</th>\n",
       "      <th>Customer Segment</th>\n",
       "      <th>...</th>\n",
       "      <th>Region</th>\n",
       "      <th>State or Province</th>\n",
       "      <th>City</th>\n",
       "      <th>Postal Code</th>\n",
       "      <th>Order Date</th>\n",
       "      <th>Ship Date</th>\n",
       "      <th>Profit</th>\n",
       "      <th>Quantity ordered new</th>\n",
       "      <th>Sales</th>\n",
       "      <th>Order ID</th>\n",
       "    </tr>\n",
       "  </thead>\n",
       "  <tbody>\n",
       "    <tr>\n",
       "      <td>0</td>\n",
       "      <td>5e09be4e5059672c34b9d5e7</td>\n",
       "      <td>20847</td>\n",
       "      <td>High</td>\n",
       "      <td>0.01</td>\n",
       "      <td>2.84</td>\n",
       "      <td>0.93</td>\n",
       "      <td>3</td>\n",
       "      <td>Bonnie Potter</td>\n",
       "      <td>Express Air</td>\n",
       "      <td>Corporate</td>\n",
       "      <td>...</td>\n",
       "      <td>West</td>\n",
       "      <td>Washington</td>\n",
       "      <td>Anacortes</td>\n",
       "      <td>98221</td>\n",
       "      <td>1/7/2015</td>\n",
       "      <td>1/8/2015</td>\n",
       "      <td>4.56</td>\n",
       "      <td>4</td>\n",
       "      <td>13.01</td>\n",
       "      <td>88522</td>\n",
       "    </tr>\n",
       "    <tr>\n",
       "      <td>1</td>\n",
       "      <td>5e09be4e5059672c34b9d5e8</td>\n",
       "      <td>20228</td>\n",
       "      <td>Not Specified</td>\n",
       "      <td>0.02</td>\n",
       "      <td>500.98</td>\n",
       "      <td>26</td>\n",
       "      <td>5</td>\n",
       "      <td>Ronnie Proctor</td>\n",
       "      <td>Delivery Truck</td>\n",
       "      <td>Home Office</td>\n",
       "      <td>...</td>\n",
       "      <td>West</td>\n",
       "      <td>California</td>\n",
       "      <td>San Gabriel</td>\n",
       "      <td>91776</td>\n",
       "      <td>6/13/2015</td>\n",
       "      <td>6/15/2015</td>\n",
       "      <td>4390.3665</td>\n",
       "      <td>12</td>\n",
       "      <td>6362.85</td>\n",
       "      <td>90193</td>\n",
       "    </tr>\n",
       "    <tr>\n",
       "      <td>2</td>\n",
       "      <td>5e09be4e5059672c34b9d5e9</td>\n",
       "      <td>21776</td>\n",
       "      <td>Critical</td>\n",
       "      <td>0.06</td>\n",
       "      <td>9.48</td>\n",
       "      <td>7.29</td>\n",
       "      <td>11</td>\n",
       "      <td>Marcus Dunlap</td>\n",
       "      <td>Regular Air</td>\n",
       "      <td>Home Office</td>\n",
       "      <td>...</td>\n",
       "      <td>0.45</td>\n",
       "      <td>United States</td>\n",
       "      <td>East</td>\n",
       "      <td>New Jersey</td>\n",
       "      <td>Roselle</td>\n",
       "      <td>7203</td>\n",
       "      <td>2/15/2015</td>\n",
       "      <td>2/17/2015</td>\n",
       "      <td>-53.8096</td>\n",
       "      <td>22</td>\n",
       "    </tr>\n",
       "    <tr>\n",
       "      <td>3</td>\n",
       "      <td>5e09be4e5059672c34b9d5ea</td>\n",
       "      <td>24844</td>\n",
       "      <td>Medium</td>\n",
       "      <td>0.09</td>\n",
       "      <td>78.69</td>\n",
       "      <td>19.99</td>\n",
       "      <td>14</td>\n",
       "      <td>Gwendolyn F Tyson</td>\n",
       "      <td>Regular Air</td>\n",
       "      <td>Small Business</td>\n",
       "      <td>...</td>\n",
       "      <td>Central</td>\n",
       "      <td>Minnesota</td>\n",
       "      <td>Prior Lake</td>\n",
       "      <td>55372</td>\n",
       "      <td>5/12/2015</td>\n",
       "      <td>5/14/2015</td>\n",
       "      <td>803.4705</td>\n",
       "      <td>16</td>\n",
       "      <td>1164.45</td>\n",
       "      <td>86838</td>\n",
       "    </tr>\n",
       "    <tr>\n",
       "      <td>4</td>\n",
       "      <td>5e09be4e5059672c34b9d5eb</td>\n",
       "      <td>24846</td>\n",
       "      <td>Medium</td>\n",
       "      <td>0.08</td>\n",
       "      <td>3.28</td>\n",
       "      <td>2.31</td>\n",
       "      <td>14</td>\n",
       "      <td>Gwendolyn F Tyson</td>\n",
       "      <td>Regular Air</td>\n",
       "      <td>Small Business</td>\n",
       "      <td>...</td>\n",
       "      <td>Central</td>\n",
       "      <td>Minnesota</td>\n",
       "      <td>Prior Lake</td>\n",
       "      <td>55372</td>\n",
       "      <td>5/12/2015</td>\n",
       "      <td>5/13/2015</td>\n",
       "      <td>-24.03</td>\n",
       "      <td>7</td>\n",
       "      <td>22.23</td>\n",
       "      <td>86838</td>\n",
       "    </tr>\n",
       "    <tr>\n",
       "      <td>...</td>\n",
       "      <td>...</td>\n",
       "      <td>...</td>\n",
       "      <td>...</td>\n",
       "      <td>...</td>\n",
       "      <td>...</td>\n",
       "      <td>...</td>\n",
       "      <td>...</td>\n",
       "      <td>...</td>\n",
       "      <td>...</td>\n",
       "      <td>...</td>\n",
       "      <td>...</td>\n",
       "      <td>...</td>\n",
       "      <td>...</td>\n",
       "      <td>...</td>\n",
       "      <td>...</td>\n",
       "      <td>...</td>\n",
       "      <td>...</td>\n",
       "      <td>...</td>\n",
       "      <td>...</td>\n",
       "      <td>...</td>\n",
       "      <td>...</td>\n",
       "    </tr>\n",
       "    <tr>\n",
       "      <td>1949</td>\n",
       "      <td>5e09be4f5059672c34b9dd84</td>\n",
       "      <td>19843</td>\n",
       "      <td>High</td>\n",
       "      <td>0.1</td>\n",
       "      <td>7.99</td>\n",
       "      <td>5.03</td>\n",
       "      <td>3397</td>\n",
       "      <td>Andrea Shaw</td>\n",
       "      <td>Regular Air</td>\n",
       "      <td>Small Business</td>\n",
       "      <td>...</td>\n",
       "      <td>Central</td>\n",
       "      <td>Illinois</td>\n",
       "      <td>Danville</td>\n",
       "      <td>61832</td>\n",
       "      <td>3/11/2015</td>\n",
       "      <td>3/12/2015</td>\n",
       "      <td>-160.952</td>\n",
       "      <td>22</td>\n",
       "      <td>143.12</td>\n",
       "      <td>87536</td>\n",
       "    </tr>\n",
       "    <tr>\n",
       "      <td>1950</td>\n",
       "      <td>5e09be4f5059672c34b9dd85</td>\n",
       "      <td>26208</td>\n",
       "      <td>Not Specified</td>\n",
       "      <td>0.08</td>\n",
       "      <td>11.97</td>\n",
       "      <td>5.81</td>\n",
       "      <td>3399</td>\n",
       "      <td>Marvin Reid</td>\n",
       "      <td>Regular Air</td>\n",
       "      <td>Small Business</td>\n",
       "      <td>...</td>\n",
       "      <td>Central</td>\n",
       "      <td>Illinois</td>\n",
       "      <td>Des Plaines</td>\n",
       "      <td>60016</td>\n",
       "      <td>3/29/2015</td>\n",
       "      <td>3/31/2015</td>\n",
       "      <td>-41.87</td>\n",
       "      <td>5</td>\n",
       "      <td>59.98</td>\n",
       "      <td>87534</td>\n",
       "    </tr>\n",
       "    <tr>\n",
       "      <td>1951</td>\n",
       "      <td>5e09be4f5059672c34b9dd86</td>\n",
       "      <td>24911</td>\n",
       "      <td>Medium</td>\n",
       "      <td>0.1</td>\n",
       "      <td>9.38</td>\n",
       "      <td>4.93</td>\n",
       "      <td>3400</td>\n",
       "      <td>Florence Gold</td>\n",
       "      <td>Express Air</td>\n",
       "      <td>Small Business</td>\n",
       "      <td>...</td>\n",
       "      <td>United States</td>\n",
       "      <td>East</td>\n",
       "      <td>West Virginia</td>\n",
       "      <td>Fairmont</td>\n",
       "      <td>26554</td>\n",
       "      <td>4/4/2015</td>\n",
       "      <td>4/4/2015</td>\n",
       "      <td>-24.7104</td>\n",
       "      <td>15</td>\n",
       "      <td>135.78</td>\n",
       "    </tr>\n",
       "    <tr>\n",
       "      <td>1952</td>\n",
       "      <td>5e09be4f5059672c34b9dd87</td>\n",
       "      <td>25914</td>\n",
       "      <td>High</td>\n",
       "      <td>0.1</td>\n",
       "      <td>105.98</td>\n",
       "      <td>13.99</td>\n",
       "      <td>3403</td>\n",
       "      <td>Tammy Buckley</td>\n",
       "      <td>Express Air</td>\n",
       "      <td>Consumer</td>\n",
       "      <td>...</td>\n",
       "      <td>United States</td>\n",
       "      <td>West</td>\n",
       "      <td>Wyoming</td>\n",
       "      <td>Cheyenne</td>\n",
       "      <td>82001</td>\n",
       "      <td>2/8/2015</td>\n",
       "      <td>2/11/2015</td>\n",
       "      <td>349.485</td>\n",
       "      <td>5</td>\n",
       "      <td>506.5</td>\n",
       "    </tr>\n",
       "    <tr>\n",
       "      <td>1953</td>\n",
       "      <td>5e09be4f5059672c34b9dd88</td>\n",
       "      <td></td>\n",
       "      <td>None</td>\n",
       "      <td>None</td>\n",
       "      <td>None</td>\n",
       "      <td>None</td>\n",
       "      <td>None</td>\n",
       "      <td>None</td>\n",
       "      <td>None</td>\n",
       "      <td>None</td>\n",
       "      <td>...</td>\n",
       "      <td>None</td>\n",
       "      <td>None</td>\n",
       "      <td>None</td>\n",
       "      <td>None</td>\n",
       "      <td>None</td>\n",
       "      <td>None</td>\n",
       "      <td>None</td>\n",
       "      <td>None</td>\n",
       "      <td>None</td>\n",
       "      <td>None</td>\n",
       "    </tr>\n",
       "  </tbody>\n",
       "</table>\n",
       "<p>1954 rows × 26 columns</p>\n",
       "</div>"
      ],
      "text/plain": [
       "                           _id Row ID Order Priority Discount Unit Price  \\\n",
       "0     5e09be4e5059672c34b9d5e7  20847           High     0.01       2.84   \n",
       "1     5e09be4e5059672c34b9d5e8  20228  Not Specified     0.02     500.98   \n",
       "2     5e09be4e5059672c34b9d5e9  21776       Critical     0.06       9.48   \n",
       "3     5e09be4e5059672c34b9d5ea  24844         Medium     0.09      78.69   \n",
       "4     5e09be4e5059672c34b9d5eb  24846         Medium     0.08       3.28   \n",
       "...                        ...    ...            ...      ...        ...   \n",
       "1949  5e09be4f5059672c34b9dd84  19843           High      0.1       7.99   \n",
       "1950  5e09be4f5059672c34b9dd85  26208  Not Specified     0.08      11.97   \n",
       "1951  5e09be4f5059672c34b9dd86  24911         Medium      0.1       9.38   \n",
       "1952  5e09be4f5059672c34b9dd87  25914           High      0.1     105.98   \n",
       "1953  5e09be4f5059672c34b9dd88                  None     None       None   \n",
       "\n",
       "     Shipping Cost Customer ID      Customer Name       Ship Mode  \\\n",
       "0             0.93           3      Bonnie Potter     Express Air   \n",
       "1               26           5     Ronnie Proctor  Delivery Truck   \n",
       "2             7.29          11      Marcus Dunlap     Regular Air   \n",
       "3            19.99          14  Gwendolyn F Tyson     Regular Air   \n",
       "4             2.31          14  Gwendolyn F Tyson     Regular Air   \n",
       "...            ...         ...                ...             ...   \n",
       "1949          5.03        3397        Andrea Shaw     Regular Air   \n",
       "1950          5.81        3399        Marvin Reid     Regular Air   \n",
       "1951          4.93        3400      Florence Gold     Express Air   \n",
       "1952         13.99        3403      Tammy Buckley     Express Air   \n",
       "1953          None        None               None            None   \n",
       "\n",
       "     Customer Segment  ...         Region State or Province           City  \\\n",
       "0           Corporate  ...           West        Washington      Anacortes   \n",
       "1         Home Office  ...           West        California    San Gabriel   \n",
       "2         Home Office  ...           0.45     United States           East   \n",
       "3      Small Business  ...        Central         Minnesota     Prior Lake   \n",
       "4      Small Business  ...        Central         Minnesota     Prior Lake   \n",
       "...               ...  ...            ...               ...            ...   \n",
       "1949   Small Business  ...        Central          Illinois       Danville   \n",
       "1950   Small Business  ...        Central          Illinois    Des Plaines   \n",
       "1951   Small Business  ...  United States              East  West Virginia   \n",
       "1952         Consumer  ...  United States              West        Wyoming   \n",
       "1953             None  ...           None              None           None   \n",
       "\n",
       "     Postal Code Order Date  Ship Date     Profit Quantity ordered new  \\\n",
       "0          98221   1/7/2015   1/8/2015       4.56                    4   \n",
       "1          91776  6/13/2015  6/15/2015  4390.3665                   12   \n",
       "2     New Jersey    Roselle       7203  2/15/2015            2/17/2015   \n",
       "3          55372  5/12/2015  5/14/2015   803.4705                   16   \n",
       "4          55372  5/12/2015  5/13/2015     -24.03                    7   \n",
       "...          ...        ...        ...        ...                  ...   \n",
       "1949       61832  3/11/2015  3/12/2015   -160.952                   22   \n",
       "1950       60016  3/29/2015  3/31/2015     -41.87                    5   \n",
       "1951    Fairmont      26554   4/4/2015   4/4/2015             -24.7104   \n",
       "1952    Cheyenne      82001   2/8/2015  2/11/2015              349.485   \n",
       "1953        None       None       None       None                 None   \n",
       "\n",
       "         Sales Order ID  \n",
       "0        13.01    88522  \n",
       "1      6362.85    90193  \n",
       "2     -53.8096       22  \n",
       "3      1164.45    86838  \n",
       "4        22.23    86838  \n",
       "...        ...      ...  \n",
       "1949    143.12    87536  \n",
       "1950     59.98    87534  \n",
       "1951        15   135.78  \n",
       "1952         5    506.5  \n",
       "1953      None     None  \n",
       "\n",
       "[1954 rows x 26 columns]"
      ]
     },
     "execution_count": 26,
     "metadata": {},
     "output_type": "execute_result"
    }
   ],
   "source": [
    "# Convert json into pandas\n",
    "result = pd.DataFrame(list(cursor))\n",
    "result\n"
   ]
  },
  {
   "cell_type": "code",
   "execution_count": 32,
   "metadata": {},
   "outputs": [
    {
     "data": {
      "text/plain": [
       "pandas.core.frame.DataFrame"
      ]
     },
     "execution_count": 32,
     "metadata": {},
     "output_type": "execute_result"
    }
   ],
   "source": [
    "type(result)"
   ]
  },
  {
   "cell_type": "code",
   "execution_count": 28,
   "metadata": {},
   "outputs": [
    {
     "data": {
      "text/html": [
       "<div>\n",
       "<style scoped>\n",
       "    .dataframe tbody tr th:only-of-type {\n",
       "        vertical-align: middle;\n",
       "    }\n",
       "\n",
       "    .dataframe tbody tr th {\n",
       "        vertical-align: top;\n",
       "    }\n",
       "\n",
       "    .dataframe thead th {\n",
       "        text-align: right;\n",
       "    }\n",
       "</style>\n",
       "<table border=\"1\" class=\"dataframe\">\n",
       "  <thead>\n",
       "    <tr style=\"text-align: right;\">\n",
       "      <th></th>\n",
       "      <th>_id</th>\n",
       "      <th>Row ID</th>\n",
       "      <th>Order Priority</th>\n",
       "      <th>Discount</th>\n",
       "      <th>Unit Price</th>\n",
       "      <th>Shipping Cost</th>\n",
       "      <th>Customer ID</th>\n",
       "      <th>Customer Name</th>\n",
       "      <th>Ship Mode</th>\n",
       "      <th>Customer Segment</th>\n",
       "      <th>...</th>\n",
       "      <th>Region</th>\n",
       "      <th>State or Province</th>\n",
       "      <th>City</th>\n",
       "      <th>Postal Code</th>\n",
       "      <th>Order Date</th>\n",
       "      <th>Ship Date</th>\n",
       "      <th>Profit</th>\n",
       "      <th>Quantity ordered new</th>\n",
       "      <th>Sales</th>\n",
       "      <th>Order ID</th>\n",
       "    </tr>\n",
       "  </thead>\n",
       "  <tbody>\n",
       "    <tr>\n",
       "      <td>0</td>\n",
       "      <td>5e09be4e5059672c34b9d5e7</td>\n",
       "      <td>20847</td>\n",
       "      <td>High</td>\n",
       "      <td>0.01</td>\n",
       "      <td>2.84</td>\n",
       "      <td>0.93</td>\n",
       "      <td>3</td>\n",
       "      <td>Bonnie Potter</td>\n",
       "      <td>Express Air</td>\n",
       "      <td>Corporate</td>\n",
       "      <td>...</td>\n",
       "      <td>West</td>\n",
       "      <td>Washington</td>\n",
       "      <td>Anacortes</td>\n",
       "      <td>98221</td>\n",
       "      <td>1/7/2015</td>\n",
       "      <td>1/8/2015</td>\n",
       "      <td>4.56</td>\n",
       "      <td>4</td>\n",
       "      <td>13.01</td>\n",
       "      <td>88522</td>\n",
       "    </tr>\n",
       "    <tr>\n",
       "      <td>1</td>\n",
       "      <td>5e09be4e5059672c34b9d5e8</td>\n",
       "      <td>20228</td>\n",
       "      <td>Not Specified</td>\n",
       "      <td>0.02</td>\n",
       "      <td>500.98</td>\n",
       "      <td>26</td>\n",
       "      <td>5</td>\n",
       "      <td>Ronnie Proctor</td>\n",
       "      <td>Delivery Truck</td>\n",
       "      <td>Home Office</td>\n",
       "      <td>...</td>\n",
       "      <td>West</td>\n",
       "      <td>California</td>\n",
       "      <td>San Gabriel</td>\n",
       "      <td>91776</td>\n",
       "      <td>6/13/2015</td>\n",
       "      <td>6/15/2015</td>\n",
       "      <td>4390.3665</td>\n",
       "      <td>12</td>\n",
       "      <td>6362.85</td>\n",
       "      <td>90193</td>\n",
       "    </tr>\n",
       "  </tbody>\n",
       "</table>\n",
       "<p>2 rows × 26 columns</p>\n",
       "</div>"
      ],
      "text/plain": [
       "                        _id Row ID Order Priority Discount Unit Price  \\\n",
       "0  5e09be4e5059672c34b9d5e7  20847           High     0.01       2.84   \n",
       "1  5e09be4e5059672c34b9d5e8  20228  Not Specified     0.02     500.98   \n",
       "\n",
       "  Shipping Cost Customer ID   Customer Name       Ship Mode Customer Segment  \\\n",
       "0          0.93           3   Bonnie Potter     Express Air        Corporate   \n",
       "1            26           5  Ronnie Proctor  Delivery Truck      Home Office   \n",
       "\n",
       "   ... Region State or Province         City Postal Code Order Date  \\\n",
       "0  ...   West        Washington    Anacortes       98221   1/7/2015   \n",
       "1  ...   West        California  San Gabriel       91776  6/13/2015   \n",
       "\n",
       "   Ship Date     Profit Quantity ordered new    Sales Order ID  \n",
       "0   1/8/2015       4.56                    4    13.01    88522  \n",
       "1  6/15/2015  4390.3665                   12  6362.85    90193  \n",
       "\n",
       "[2 rows x 26 columns]"
      ]
     },
     "execution_count": 28,
     "metadata": {},
     "output_type": "execute_result"
    }
   ],
   "source": [
    "result.head(2)"
   ]
  },
  {
   "cell_type": "code",
   "execution_count": 30,
   "metadata": {},
   "outputs": [],
   "source": [
    "# save this csv file back into mongodb in Key:Value format (.jason)\n",
    "NewData = pd.read_csv(\"Missing_perc2.csv\")"
   ]
  },
  {
   "cell_type": "code",
   "execution_count": 33,
   "metadata": {},
   "outputs": [],
   "source": [
    "# Convert dataframe into json format\n",
    "JsnMissPerc2 = json.loads(NewData.T.to_json()).values()"
   ]
  },
  {
   "cell_type": "code",
   "execution_count": 34,
   "metadata": {},
   "outputs": [
    {
     "data": {
      "text/plain": [
       "dict_values"
      ]
     },
     "execution_count": 34,
     "metadata": {},
     "output_type": "execute_result"
    }
   ],
   "source": [
    "type(JsnMissPerc2 )  # .JASON = dictionary = KV pair"
   ]
  },
  {
   "cell_type": "code",
   "execution_count": 35,
   "metadata": {},
   "outputs": [
    {
     "name": "stderr",
     "output_type": "stream",
     "text": [
      "C:\\Users\\patil\\Anaconda3\\lib\\site-packages\\ipykernel_launcher.py:2: DeprecationWarning: insert is deprecated. Use insert_one or insert_many instead.\n",
      "  \n"
     ]
    },
    {
     "data": {
      "text/plain": [
       "[ObjectId('5e4ae7394b34dc1735d31da6'),\n",
       " ObjectId('5e4ae7394b34dc1735d31da7'),\n",
       " ObjectId('5e4ae7394b34dc1735d31da8'),\n",
       " ObjectId('5e4ae7394b34dc1735d31da9'),\n",
       " ObjectId('5e4ae7394b34dc1735d31daa'),\n",
       " ObjectId('5e4ae7394b34dc1735d31dab'),\n",
       " ObjectId('5e4ae7394b34dc1735d31dac'),\n",
       " ObjectId('5e4ae7394b34dc1735d31dad'),\n",
       " ObjectId('5e4ae7394b34dc1735d31dae'),\n",
       " ObjectId('5e4ae7394b34dc1735d31daf'),\n",
       " ObjectId('5e4ae7394b34dc1735d31db0'),\n",
       " ObjectId('5e4ae7394b34dc1735d31db1'),\n",
       " ObjectId('5e4ae7394b34dc1735d31db2'),\n",
       " ObjectId('5e4ae7394b34dc1735d31db3'),\n",
       " ObjectId('5e4ae7394b34dc1735d31db4'),\n",
       " ObjectId('5e4ae7394b34dc1735d31db5'),\n",
       " ObjectId('5e4ae7394b34dc1735d31db6'),\n",
       " ObjectId('5e4ae7394b34dc1735d31db7'),\n",
       " ObjectId('5e4ae7394b34dc1735d31db8'),\n",
       " ObjectId('5e4ae7394b34dc1735d31db9'),\n",
       " ObjectId('5e4ae7394b34dc1735d31dba'),\n",
       " ObjectId('5e4ae7394b34dc1735d31dbb')]"
      ]
     },
     "execution_count": 35,
     "metadata": {},
     "output_type": "execute_result"
    }
   ],
   "source": [
    "# select DB-create_file of missPerc2-Insert new json (JsnMissPerc2=collection) into mongo \n",
    "Select_db.MissPerc2.insert(JsnMissPerc2)"
   ]
  },
  {
   "cell_type": "code",
   "execution_count": 36,
   "metadata": {},
   "outputs": [
    {
     "name": "stderr",
     "output_type": "stream",
     "text": [
      "C:\\Users\\patil\\Anaconda3\\lib\\site-packages\\ipykernel_launcher.py:1: DeprecationWarning: collection_names is deprecated. Use list_collection_names instead.\n",
      "  \"\"\"Entry point for launching an IPython kernel.\n"
     ]
    }
   ],
   "source": [
    "Collection_Names = Select_db.collection_names(include_system_collections = False)"
   ]
  },
  {
   "cell_type": "code",
   "execution_count": 38,
   "metadata": {},
   "outputs": [
    {
     "name": "stderr",
     "output_type": "stream",
     "text": [
      "C:\\Users\\patil\\Anaconda3\\lib\\site-packages\\ipykernel_launcher.py:3: DeprecationWarning: collection_names is deprecated. Use list_collection_names instead.\n",
      "  This is separate from the ipykernel package so we can avoid doing imports until\n"
     ]
    },
    {
     "data": {
      "text/plain": [
       "['Static', 'MissPerc2', 'Header of page']"
      ]
     },
     "execution_count": 38,
     "metadata": {},
     "output_type": "execute_result"
    }
   ],
   "source": [
    "# see  all the collections (tables) in mongodb and exclude defaut ones\n",
    "\n",
    "Collection_Names = Select_db.collection_names(include_system_collections = False)\n",
    "Collection_Names"
   ]
  },
  {
   "cell_type": "code",
   "execution_count": null,
   "metadata": {},
   "outputs": [],
   "source": []
  },
  {
   "cell_type": "code",
   "execution_count": null,
   "metadata": {
    "collapsed": true
   },
   "outputs": [],
   "source": []
  },
  {
   "cell_type": "code",
   "execution_count": 39,
   "metadata": {},
   "outputs": [],
   "source": [
    "# Drop collections\n",
    "Select_db.templates.drop()"
   ]
  },
  {
   "cell_type": "code",
   "execution_count": null,
   "metadata": {},
   "outputs": [],
   "source": []
  },
  {
   "cell_type": "code",
   "execution_count": 19,
   "metadata": {},
   "outputs": [
    {
     "ename": "ModuleNotFoundError",
     "evalue": "No module named 'azureml'",
     "output_type": "error",
     "traceback": [
      "\u001b[1;31m---------------------------------------------------------------------------\u001b[0m",
      "\u001b[1;31mModuleNotFoundError\u001b[0m                       Traceback (most recent call last)",
      "\u001b[1;32m<ipython-input-19-5c20580a07c5>\u001b[0m in \u001b[0;36m<module>\u001b[1;34m\u001b[0m\n\u001b[0;32m      3\u001b[0m \u001b[1;31m# connect to Machine Learning Server (use=MLServer).\u001b[0m\u001b[1;33m\u001b[0m\u001b[1;33m\u001b[0m\u001b[1;33m\u001b[0m\u001b[0m\n\u001b[0;32m      4\u001b[0m \u001b[1;33m\u001b[0m\u001b[0m\n\u001b[1;32m----> 5\u001b[1;33m \u001b[1;32mfrom\u001b[0m \u001b[0mazureml\u001b[0m\u001b[1;33m.\u001b[0m\u001b[0mdeploy\u001b[0m \u001b[1;32mimport\u001b[0m \u001b[0mDeployClient\u001b[0m\u001b[1;33m\u001b[0m\u001b[1;33m\u001b[0m\u001b[0m\n\u001b[0m\u001b[0;32m      6\u001b[0m \u001b[1;32mfrom\u001b[0m \u001b[0mazureml\u001b[0m\u001b[1;33m.\u001b[0m\u001b[0mdeploy\u001b[0m\u001b[1;33m.\u001b[0m\u001b[0mserver\u001b[0m \u001b[1;32mimport\u001b[0m \u001b[0mMLServer\u001b[0m\u001b[1;33m\u001b[0m\u001b[1;33m\u001b[0m\u001b[0m\n",
      "\u001b[1;31mModuleNotFoundError\u001b[0m: No module named 'azureml'"
     ]
    }
   ],
   "source": [
    "# First, import the DeployClient and MLServer classes from \n",
    "# the azureml-model-management-sdk package so you can \n",
    "# connect to Machine Learning Server (use=MLServer).\n",
    "\n",
    "from azureml.deploy import DeployClient\n",
    "from azureml.deploy.server import MLServer\n"
   ]
  },
  {
   "cell_type": "code",
   "execution_count": 1,
   "metadata": {},
   "outputs": [
    {
     "ename": "SyntaxError",
     "evalue": "invalid character in identifier (<ipython-input-1-cc6bfcd3310a>, line 21)",
     "output_type": "error",
     "traceback": [
      "\u001b[1;36m  File \u001b[1;32m\"<ipython-input-1-cc6bfcd3310a>\"\u001b[1;36m, line \u001b[1;32m21\u001b[0m\n\u001b[1;33m    ​\u001b[0m\n\u001b[1;37m    ^\u001b[0m\n\u001b[1;31mSyntaxError\u001b[0m\u001b[1;31m:\u001b[0m invalid character in identifier\n"
     ]
    }
   ],
   "source": [
    "\n",
    "# Define the endpoint of the host Machine Learning Server.\n",
    "HOST = '{{YOUR_HOST_ENDPOINT}}'\n",
    "\n",
    "# Pass in credentials for the AAD context as a dictionary. \n",
    "# Omit username & password to use ADAL to authenticate. \n",
    "context = {\n",
    "    'authuri': 'https://login.windows.net',\n",
    "    'tenant': '{{AAD_DOMAIN}}',\n",
    "    'clientid': '{{NATIVE_APP_CLIENT_ID}}',\n",
    "    'resource': '{{WEB_APP_CLIENT_ID}}',\n",
    "    'username': '{{YOUR_USERNAME}}',  \n",
    "    'password': '{{YOUR_PASSWORD}}' \n",
    "}\n",
    "​\n",
    "client = DeployClient(HOST, use=MLServer, auth=context)"
   ]
  },
  {
   "cell_type": "code",
   "execution_count": null,
   "metadata": {},
   "outputs": [],
   "source": []
  },
  {
   "cell_type": "code",
   "execution_count": null,
   "metadata": {},
   "outputs": [],
   "source": []
  },
  {
   "cell_type": "code",
   "execution_count": null,
   "metadata": {},
   "outputs": [],
   "source": []
  },
  {
   "cell_type": "code",
   "execution_count": null,
   "metadata": {},
   "outputs": [],
   "source": []
  }
 ],
 "metadata": {
  "kernelspec": {
   "display_name": "Python 3",
   "language": "python",
   "name": "python3"
  },
  "language_info": {
   "codemirror_mode": {
    "name": "ipython",
    "version": 3
   },
   "file_extension": ".py",
   "mimetype": "text/x-python",
   "name": "python",
   "nbconvert_exporter": "python",
   "pygments_lexer": "ipython3",
   "version": "3.7.4"
  }
 },
 "nbformat": 4,
 "nbformat_minor": 2
}
